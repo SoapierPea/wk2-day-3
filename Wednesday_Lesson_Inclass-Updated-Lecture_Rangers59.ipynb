{
 "cells": [
  {
   "cell_type": "markdown",
   "metadata": {},
   "source": [
    "# Data Collections 2 (Dictionaries, Sets) and Importing Modules"
   ]
  },
  {
   "cell_type": "markdown",
   "metadata": {},
   "source": [
    "## Tasks Today:\n",
    "\n",
    "1) Dictionary <br>\n",
    " &nbsp;&nbsp;&nbsp;&nbsp; a) Declaring (key, value) <br>\n",
    " &nbsp;&nbsp;&nbsp;&nbsp; b) Accessing Values <br>\n",
    " &nbsp;&nbsp;&nbsp;&nbsp; ------ Exercise #1 - Print the eye color of each person in a double nested dict <br>\n",
    " &nbsp;&nbsp;&nbsp;&nbsp; c) Adding New Pairs <br>\n",
    " &nbsp;&nbsp;&nbsp;&nbsp; d) Modifying Values <br>\n",
    " &nbsp;&nbsp;&nbsp;&nbsp; e) Removing Key, Value Pairs <br>\n",
    " &nbsp;&nbsp;&nbsp;&nbsp; f) Looping a Dictionary <br>\n",
    " &nbsp;&nbsp;&nbsp;&nbsp; g) Looping Only Keys <br>\n",
    " &nbsp;&nbsp;&nbsp;&nbsp; h) Looping Only Values <br>\n",
    " &nbsp;&nbsp;&nbsp;&nbsp; ------ Exercise #2 - Create a Function that Prints All Key Value Pairs within a print .format()  <br>\n",
    " &nbsp;&nbsp;&nbsp;&nbsp; i) sorted() <br>\n",
    " &nbsp;&nbsp;&nbsp;&nbsp; j) Lists with Dictionaries <br>\n",
    " &nbsp;&nbsp;&nbsp;&nbsp; k) Dictionaries with Lists <br>\n",
    " &nbsp;&nbsp;&nbsp;&nbsp; l) Dictionaries with Dictionaries <br>\n",
    " &nbsp;&nbsp;&nbsp;&nbsp; ------ Exercise #3 - Write a Function that asks someone's name and address, and then stores that into a dictionary, which prints all names and addresses after they're done putting information in...  <br>\n",
    "2) Dictionaries vs. Lists (over time)<br>\n",
    "3) Set <br>\n",
    " &nbsp;&nbsp;&nbsp;&nbsp; a) Declaring <br>\n",
    " &nbsp;&nbsp;&nbsp;&nbsp; b) .add() <br>\n",
    " &nbsp;&nbsp;&nbsp;&nbsp; c) .remove() <br>\n",
    " &nbsp;&nbsp;&nbsp;&nbsp; d) .union() <br>\n",
    " &nbsp;&nbsp;&nbsp;&nbsp; e) .intersection() <br>\n",
    " &nbsp;&nbsp;&nbsp;&nbsp; f) .difference() <br>\n",
    " &nbsp;&nbsp;&nbsp;&nbsp; g) Frozen Set <br>\n",
    "4) Modules <br>\n",
    " &nbsp;&nbsp;&nbsp;&nbsp; a) Importing Entire Modules <br>\n",
    " &nbsp;&nbsp;&nbsp;&nbsp; b) Importing Methods Only <br>\n",
    " &nbsp;&nbsp;&nbsp;&nbsp; c) Using the 'as' Keyword <br>\n",
    " &nbsp;&nbsp;&nbsp;&nbsp; d) Creating a Module <br>\n",
    "5) Exercises <br>\n",
    " &nbsp;&nbsp;&nbsp;&nbsp; a) Build a Shopping Cart <br>\n",
    " &nbsp;&nbsp;&nbsp;&nbsp; b) Create Your Own Module <br>"
   ]
  },
  {
   "cell_type": "markdown",
   "metadata": {},
   "source": [
    "## Dictionary <br>\n",
    "<p>A collection of data with 'key:value' pairs. Dictionaries are ordered as of Python 3.6</p>"
   ]
  },
  {
   "cell_type": "code",
   "execution_count": null,
   "metadata": {},
   "outputs": [],
   "source": [
    "profile: \n",
    "            first name: kevin\n",
    "            last name: rodriguez\n",
    "            email: kevinrod@gmail.com\n",
    "            age: 99\n",
    "            weight: 240\n",
    "            "
   ]
  },
  {
   "cell_type": "code",
   "execution_count": null,
   "metadata": {},
   "outputs": [],
   "source": [
    "[\"kevin\", \"Beier\", \"kevinrod@gmail.com\", 99, 249]"
   ]
  },
  {
   "cell_type": "code",
   "execution_count": null,
   "metadata": {},
   "outputs": [],
   "source": [
    "d = dict ( ) #not the best way to declare dictionary\n",
    "print(type(d))\n",
    "\n",
    "\n",
    "d = {} #preferred\n",
    "print(type(d))"
   ]
  },
  {
   "cell_type": "code",
   "execution_count": 1,
   "metadata": {},
   "outputs": [
    {
     "data": {
      "text/plain": [
       "7663758885183843176"
      ]
     },
     "execution_count": 1,
     "metadata": {},
     "output_type": "execute_result"
    }
   ],
   "source": [
    "hash (\"hey\") #dictionaries run on HASHABLE TYPES"
   ]
  },
  {
   "cell_type": "code",
   "execution_count": 2,
   "metadata": {},
   "outputs": [
    {
     "data": {
      "text/plain": [
       "7663758885183843176"
      ]
     },
     "execution_count": 2,
     "metadata": {},
     "output_type": "execute_result"
    }
   ],
   "source": [
    "hash(\"hey\")"
   ]
  },
  {
   "cell_type": "code",
   "execution_count": 3,
   "metadata": {},
   "outputs": [
    {
     "data": {
      "text/plain": [
       "2544183252837328063"
      ]
     },
     "execution_count": 3,
     "metadata": {},
     "output_type": "execute_result"
    }
   ],
   "source": [
    "hash (\"other\")"
   ]
  },
  {
   "cell_type": "code",
   "execution_count": 4,
   "metadata": {},
   "outputs": [
    {
     "name": "stdout",
     "output_type": "stream",
     "text": [
      "{'key': 'value', 'name': 'kevin', 'integer': 123, 'position': 'DE'}\n"
     ]
    }
   ],
   "source": [
    "#building out a dictionary\n",
    "d1 ={\n",
    "    \"key\" : \"value\",\n",
    "   \"name\": \"kevin\",\n",
    "   \"integer\":123,\n",
    "   \"position\": \"DE\"\n",
    "\n",
    "}\n",
    "\n",
    "print(d1)"
   ]
  },
  {
   "cell_type": "code",
   "execution_count": 8,
   "metadata": {},
   "outputs": [
    {
     "name": "stdout",
     "output_type": "stream",
     "text": [
      "value\n",
      "kevin\n",
      "123\n",
      "DE\n",
      "integer\n"
     ]
    }
   ],
   "source": [
    "d1 ={\n",
    "    \"key\" : \"value\",\n",
    "   \"name\": \"kevin\",\n",
    "   \"integer\":123,\n",
    "   \"position\": \"DE\",\n",
    "   123: \"integer\"\n",
    "\n",
    "}\n",
    "print(d1[\"key\"])\n",
    "print(d1[\"name\"])\n",
    "\n",
    "print(d1[\"integer\"])\n",
    "print(d1[\"position\"])\n",
    "print(d1[123])"
   ]
  },
  {
   "cell_type": "markdown",
   "metadata": {},
   "source": [
    "##### Declaring (key, value)"
   ]
  },
  {
   "cell_type": "code",
   "execution_count": null,
   "metadata": {},
   "outputs": [],
   "source": []
  },
  {
   "cell_type": "markdown",
   "metadata": {},
   "source": [
    "##### Accessing Values"
   ]
  },
  {
   "cell_type": "code",
   "execution_count": null,
   "metadata": {},
   "outputs": [],
   "source": []
  },
  {
   "cell_type": "markdown",
   "metadata": {},
   "source": [
    "## In-Class Exercise #1 - Print a formatted statement from the dictionary below <br>\n",
    "<p>The output should be '2018 Chevrolet Silverado'</p>"
   ]
  },
  {
   "cell_type": "code",
   "execution_count": null,
   "metadata": {},
   "outputs": [],
   "source": []
  },
  {
   "cell_type": "code",
   "execution_count": 14,
   "metadata": {},
   "outputs": [
    {
     "name": "stdout",
     "output_type": "stream",
     "text": [
      "2018\n",
      "Chevrolet\n",
      "Silverado\n",
      " I have a 2018 Chevrolet Silverado\n"
     ]
    }
   ],
   "source": [
    "# use the dict below\n",
    "truck = {\n",
    "    'year': 2018,\n",
    "    'make': 'Chevrolet',\n",
    "    'model': 'Silverado'\n",
    "}\n",
    "print(truck['year'])\n",
    "print(truck['make'])\n",
    "print(truck['model'])\n",
    "\n",
    "print(f\" I have a {truck['year']} {truck['make']} {truck['model']}\" )\n",
    "\n"
   ]
  },
  {
   "cell_type": "markdown",
   "metadata": {},
   "source": [
    "##### .get"
   ]
  },
  {
   "cell_type": "code",
   "execution_count": 17,
   "metadata": {},
   "outputs": [
    {
     "name": "stdout",
     "output_type": "stream",
     "text": [
      "Dylan\n",
      "None\n",
      "21\n"
     ]
    }
   ],
   "source": [
    "ds = {\n",
    "    \"first_name\" : \"Dylan\",\n",
    "    \"last_name\" : \"Smith\",\n",
    "    \"no_of_showers_this_year\": 3.5,\n",
    "    \"taste_in_music\":\"bad\",\n",
    "    \"states_seen\": 45\n",
    "\n",
    "}\n",
    "\n",
    "print(ds[\"first_name\"])\n",
    "\n",
    "\n",
    "print(ds.get(\"age\")) #finding a key, which may not exist, without breaking our code\n",
    "print(ds.get(\"age\", 21)) #here we add age, but value only added for this line and actual append\n",
    "                                            # we do not add it to dictionary"
   ]
  },
  {
   "cell_type": "markdown",
   "metadata": {},
   "source": [
    "##### Adding New Pairs"
   ]
  },
  {
   "cell_type": "code",
   "execution_count": 22,
   "metadata": {},
   "outputs": [
    {
     "ename": "TypeError",
     "evalue": "unhashable type: 'dict'",
     "output_type": "error",
     "traceback": [
      "\u001b[1;31m---------------------------------------------------------------------------\u001b[0m",
      "\u001b[1;31mTypeError\u001b[0m                                 Traceback (most recent call last)",
      "\u001b[1;32mc:\\Users\\plann\\Desktop\\temple\\Cohort-100\\week-2\\day-3\\Wednesday_Lesson_Inclass-Updated-Lecture_Rangers59.ipynb Cell 22\u001b[0m in \u001b[0;36m<cell line: 18>\u001b[1;34m()\u001b[0m\n\u001b[0;32m      <a href='vscode-notebook-cell:/c%3A/Users/plann/Desktop/temple/Cohort-100/week-2/day-3/Wednesday_Lesson_Inclass-Updated-Lecture_Rangers59.ipynb#X13sZmlsZQ%3D%3D?line=0'>1</a>\u001b[0m ds \u001b[39m=\u001b[39m {\n\u001b[0;32m      <a href='vscode-notebook-cell:/c%3A/Users/plann/Desktop/temple/Cohort-100/week-2/day-3/Wednesday_Lesson_Inclass-Updated-Lecture_Rangers59.ipynb#X13sZmlsZQ%3D%3D?line=1'>2</a>\u001b[0m     \u001b[39m\"\u001b[39m\u001b[39mfirst_name\u001b[39m\u001b[39m\"\u001b[39m : \u001b[39m\"\u001b[39m\u001b[39mDylan\u001b[39m\u001b[39m\"\u001b[39m,\n\u001b[0;32m      <a href='vscode-notebook-cell:/c%3A/Users/plann/Desktop/temple/Cohort-100/week-2/day-3/Wednesday_Lesson_Inclass-Updated-Lecture_Rangers59.ipynb#X13sZmlsZQ%3D%3D?line=2'>3</a>\u001b[0m     \u001b[39m\"\u001b[39m\u001b[39mlast_name\u001b[39m\u001b[39m\"\u001b[39m : \u001b[39m\"\u001b[39m\u001b[39mSmith\u001b[39m\u001b[39m\"\u001b[39m,\n\u001b[1;32m   (...)\u001b[0m\n\u001b[0;32m      <a href='vscode-notebook-cell:/c%3A/Users/plann/Desktop/temple/Cohort-100/week-2/day-3/Wednesday_Lesson_Inclass-Updated-Lecture_Rangers59.ipynb#X13sZmlsZQ%3D%3D?line=6'>7</a>\u001b[0m \n\u001b[0;32m      <a href='vscode-notebook-cell:/c%3A/Users/plann/Desktop/temple/Cohort-100/week-2/day-3/Wednesday_Lesson_Inclass-Updated-Lecture_Rangers59.ipynb#X13sZmlsZQ%3D%3D?line=7'>8</a>\u001b[0m }\n\u001b[0;32m     <a href='vscode-notebook-cell:/c%3A/Users/plann/Desktop/temple/Cohort-100/week-2/day-3/Wednesday_Lesson_Inclass-Updated-Lecture_Rangers59.ipynb#X13sZmlsZQ%3D%3D?line=9'>10</a>\u001b[0m kr \u001b[39m=\u001b[39m {\n\u001b[0;32m     <a href='vscode-notebook-cell:/c%3A/Users/plann/Desktop/temple/Cohort-100/week-2/day-3/Wednesday_Lesson_Inclass-Updated-Lecture_Rangers59.ipynb#X13sZmlsZQ%3D%3D?line=10'>11</a>\u001b[0m     \u001b[39m\"\u001b[39m\u001b[39mfirst_name\u001b[39m\u001b[39m\"\u001b[39m : \u001b[39m\"\u001b[39m\u001b[39mKevin\u001b[39m\u001b[39m\"\u001b[39m,\n\u001b[0;32m     <a href='vscode-notebook-cell:/c%3A/Users/plann/Desktop/temple/Cohort-100/week-2/day-3/Wednesday_Lesson_Inclass-Updated-Lecture_Rangers59.ipynb#X13sZmlsZQ%3D%3D?line=11'>12</a>\u001b[0m     \u001b[39m\"\u001b[39m\u001b[39mlast_name\u001b[39m\u001b[39m\"\u001b[39m : \u001b[39m\"\u001b[39m\u001b[39mRodriguez\u001b[39m\u001b[39m\"\u001b[39m,\n\u001b[1;32m   (...)\u001b[0m\n\u001b[0;32m     <a href='vscode-notebook-cell:/c%3A/Users/plann/Desktop/temple/Cohort-100/week-2/day-3/Wednesday_Lesson_Inclass-Updated-Lecture_Rangers59.ipynb#X13sZmlsZQ%3D%3D?line=15'>16</a>\u001b[0m \n\u001b[0;32m     <a href='vscode-notebook-cell:/c%3A/Users/plann/Desktop/temple/Cohort-100/week-2/day-3/Wednesday_Lesson_Inclass-Updated-Lecture_Rangers59.ipynb#X13sZmlsZQ%3D%3D?line=16'>17</a>\u001b[0m }\n\u001b[1;32m---> <a href='vscode-notebook-cell:/c%3A/Users/plann/Desktop/temple/Cohort-100/week-2/day-3/Wednesday_Lesson_Inclass-Updated-Lecture_Rangers59.ipynb#X13sZmlsZQ%3D%3D?line=17'>18</a>\u001b[0m teachers \u001b[39m=\u001b[39m {ds, kr}\n\u001b[0;32m     <a href='vscode-notebook-cell:/c%3A/Users/plann/Desktop/temple/Cohort-100/week-2/day-3/Wednesday_Lesson_Inclass-Updated-Lecture_Rangers59.ipynb#X13sZmlsZQ%3D%3D?line=19'>20</a>\u001b[0m \u001b[39mfor\u001b[39;00m teacher \u001b[39min\u001b[39;00m teachers:\n\u001b[0;32m     <a href='vscode-notebook-cell:/c%3A/Users/plann/Desktop/temple/Cohort-100/week-2/day-3/Wednesday_Lesson_Inclass-Updated-Lecture_Rangers59.ipynb#X13sZmlsZQ%3D%3D?line=20'>21</a>\u001b[0m     \u001b[39mprint\u001b[39m(\u001b[39mf\u001b[39m\u001b[39m\"\u001b[39m\u001b[39m{\u001b[39;00mteacher[\u001b[39m'\u001b[39m\u001b[39mfirst_name\u001b[39m\u001b[39m'\u001b[39m]\u001b[39m}\u001b[39;00m\u001b[39m is \u001b[39m\u001b[39m{\u001b[39;00mteacher\u001b[39m.\u001b[39mget(\u001b[39m'\u001b[39m\u001b[39mage\u001b[39m\u001b[39m'\u001b[39m,\u001b[39m99\u001b[39m)\u001b[39m}\u001b[39;00m\u001b[39m\"\u001b[39m,)\n",
      "\u001b[1;31mTypeError\u001b[0m: unhashable type: 'dict'"
     ]
    }
   ],
   "source": [
    "ds = {\n",
    "    \"first_name\" : \"Dylan\",\n",
    "    \"last_name\" : \"Smith\",\n",
    "    \"no_of_showers_this_year\": 3.5,\n",
    "    \"taste_in_music\":\"bad\",\n",
    "    \"states_seen\": 45\n",
    "\n",
    "}\n",
    "\n",
    "kr = {\n",
    "    \"first_name\" : \"Kevin\",\n",
    "    \"last_name\" : \"Rodriguez\",\n",
    "    \"no_of_showers_this_year\": 200,\n",
    "    \"taste_in_music\": \"goof\",\n",
    "    \"states_seen\": 5\n",
    "\n",
    "}\n",
    "teachers = {ds, kr}\n",
    "\n",
    "for teacher in teachers:\n",
    "    print(f\"{teacher['first_name']} is {teacher.get('age',99)}\",)"
   ]
  },
  {
   "cell_type": "code",
   "execution_count": 24,
   "metadata": {},
   "outputs": [
    {
     "name": "stdout",
     "output_type": "stream",
     "text": [
      "{'first_name': 'Kevin', 'last_name': 'Rodriguez', 'no_of_showers_this_year': 200, 'taste_in_music': 'goof', 'states_seen': 5, 'age': 32}\n"
     ]
    }
   ],
   "source": [
    "ds ={\n",
    "    \"first_name\" : \"Kevin\",\n",
    "    \"last_name\" : \"Rodriguez\",\n",
    "    \"no_of_showers_this_year\": 200,\n",
    "    \"taste_in_music\": \"goof\",\n",
    "    \"states_seen\": 5\n",
    "}\n",
    "\n",
    "ds['age']= 32\n",
    "print(ds)"
   ]
  },
  {
   "cell_type": "code",
   "execution_count": 25,
   "metadata": {},
   "outputs": [
    {
     "name": "stdout",
     "output_type": "stream",
     "text": [
      "{'first_name': 'Kevin', 'last_name': 'Rodriguez', 'no_of_showers_this_year': 200, 'taste_in_music': 'goof', 'states_seen': 5, 'age': 32, 'weights': 250}\n"
     ]
    }
   ],
   "source": [
    "my_new_key = \"weight\"\n",
    "ds[my_new_key+\"s\"]=250\n",
    "\n",
    "print(ds)"
   ]
  },
  {
   "cell_type": "markdown",
   "metadata": {},
   "source": [
    "##### Modifying Values"
   ]
  },
  {
   "cell_type": "code",
   "execution_count": 26,
   "metadata": {},
   "outputs": [],
   "source": [
    "ds[\"no_of_showers_this_year\"] += 1"
   ]
  },
  {
   "cell_type": "code",
   "execution_count": 27,
   "metadata": {},
   "outputs": [
    {
     "name": "stdout",
     "output_type": "stream",
     "text": [
      "{'first_name': 'Kevin', 'last_name': 'Rodriguez', 'no_of_showers_this_year': 201, 'taste_in_music': 'goof', 'states_seen': 5, 'age': 32, 'weights': 250}\n"
     ]
    }
   ],
   "source": [
    "print(ds)"
   ]
  },
  {
   "cell_type": "markdown",
   "metadata": {},
   "source": [
    "##### .update"
   ]
  },
  {
   "cell_type": "code",
   "execution_count": 28,
   "metadata": {},
   "outputs": [
    {
     "name": "stdout",
     "output_type": "stream",
     "text": [
      "{'first_name': 'Kevin', 'last_name': 'Rodriguez', 'no_of_showers_this_year': 200, 'taste_in_music': 'goof', 'states_seen': 5, 'age': 32}\n"
     ]
    }
   ],
   "source": [
    "ds ={\n",
    "    \"first_name\" : \"Kevin\",\n",
    "    \"last_name\" : \"Rodriguez\",\n",
    "    \"no_of_showers_this_year\": 200,\n",
    "    \"taste_in_music\": \"goof\",\n",
    "    \"states_seen\": 5\n",
    "}\n",
    "ds.update({\"age\":32}) #a form of appending \n",
    "print (ds)"
   ]
  },
  {
   "cell_type": "markdown",
   "metadata": {},
   "source": [
    "##### .unpacking a dictionary\n"
   ]
  },
  {
   "cell_type": "code",
   "execution_count": 29,
   "metadata": {},
   "outputs": [
    {
     "name": "stdout",
     "output_type": "stream",
     "text": [
      "{'first_name': 'Kevin', 'last_name': 'Rodriguez', 'no_of_showers_this_year': 200, 'taste_in_music': 'goof', 'states_seen': 5, 'age': 32}\n"
     ]
    }
   ],
   "source": [
    "new_dict = {**ds}\n",
    "print(new_dict)"
   ]
  },
  {
   "cell_type": "code",
   "execution_count": null,
   "metadata": {},
   "outputs": [],
   "source": [
    "def test_function(x,y,z):\n",
    "    print(\"x is \", x)\n",
    "    print(\"y is\", y)\n",
    "    print(\"z is \", z)\n",
    "\n",
    "test_function(x= 1, y= 2, z =3)\n",
    "my_params*= {\n",
    "    \"x\":1,\n",
    "    \"y\":2,\n",
    "    \"z\":3\n",
    "}\n",
    "\n",
    "test_function(**my_params)"
   ]
  },
  {
   "cell_type": "markdown",
   "metadata": {},
   "source": [
    "##### Removing Key, Value Pairs"
   ]
  },
  {
   "cell_type": "code",
   "execution_count": 30,
   "metadata": {},
   "outputs": [
    {
     "name": "stdout",
     "output_type": "stream",
     "text": [
      "{'first_name': 'Kevin', 'last_name': 'Rodriguez', 'taste_in_music': 'goof', 'states_seen': 5}\n"
     ]
    }
   ],
   "source": [
    "ds ={\n",
    "    \"first_name\" : \"Kevin\",\n",
    "    \"last_name\" : \"Rodriguez\",\n",
    "    \"no_of_showers_this_year\": 200,\n",
    "    \"taste_in_music\": \"goof\",\n",
    "    \"states_seen\": 5\n",
    "}\n",
    "del ds[\"no_of_showers_this_year\"]\n",
    "print(ds)"
   ]
  },
  {
   "cell_type": "markdown",
   "metadata": {},
   "source": [
    "##### Looping a Dictionary"
   ]
  },
  {
   "cell_type": "code",
   "execution_count": 35,
   "metadata": {},
   "outputs": [],
   "source": [
    "# .items()\n",
    "# a, b, c = 1, 2, 3\n",
    "# print(a)\n",
    "# print(b)\n",
    "# print(c)"
   ]
  },
  {
   "cell_type": "markdown",
   "metadata": {},
   "source": [
    "##### Looping Only Keys"
   ]
  },
  {
   "cell_type": "code",
   "execution_count": 38,
   "metadata": {},
   "outputs": [
    {
     "name": "stdout",
     "output_type": "stream",
     "text": [
      "first_name\n",
      "Kevin\n",
      "last_name\n",
      "Rodriguez\n",
      "taste_in_music\n",
      "goof\n",
      "states_seen\n",
      "5\n"
     ]
    }
   ],
   "source": [
    "# .keys()\n",
    "\n",
    "for key in ds:\n",
    "    print(key)\n",
    "    print(ds[key])"
   ]
  },
  {
   "cell_type": "markdown",
   "metadata": {},
   "source": [
    "##### Looping Only Values"
   ]
  },
  {
   "cell_type": "code",
   "execution_count": 39,
   "metadata": {},
   "outputs": [
    {
     "name": "stdout",
     "output_type": "stream",
     "text": [
      "Kevin\n",
      "Rodriguez\n",
      "goof\n",
      "5\n"
     ]
    }
   ],
   "source": [
    "# .values()\n",
    "ds.values()\n",
    "\n",
    "for value in ds.values():\n",
    "    print(value)\n"
   ]
  },
  {
   "cell_type": "code",
   "execution_count": 36,
   "metadata": {},
   "outputs": [
    {
     "name": "stdout",
     "output_type": "stream",
     "text": [
      "first_name has the values of Kevin\n",
      "last_name has the values of Rodriguez\n",
      "taste_in_music has the values of goof\n",
      "states_seen has the values of 5\n"
     ]
    }
   ],
   "source": [
    "#.items() keys and values at the same time\n",
    "ds.items()\n",
    "for key, value in ds.items():\n",
    "    print(key, \"has the values of\", value)"
   ]
  },
  {
   "cell_type": "markdown",
   "metadata": {},
   "source": [
    "## In-Class Exercise #2 - Create a Function that Prints All Key Value Pairs within a print .format() <br>\n",
    "<p><b>Output should be:</b><br>\n",
    "Max has blue eyes<br>\n",
    "Lilly has brown eyes<br>\n",
    "Barney has blue eyes<br>\n",
    "etc.\n",
    "</p>"
   ]
  },
  {
   "cell_type": "code",
   "execution_count": 48,
   "metadata": {},
   "outputs": [
    {
     "name": "stdout",
     "output_type": "stream",
     "text": [
      "Max has blue eyes\n",
      "Lilly has brown eyes\n",
      "Barney has blue eyes\n",
      "Larney has brown eyes\n",
      "Ted has purple eyes\n"
     ]
    }
   ],
   "source": [
    "# use the dict below\n",
    "\n",
    "people = {\n",
    "    'Max': 'blue',\n",
    "    'Lilly': 'brown',\n",
    "    'Barney': 'blue',\n",
    "    'Larney': 'brown',\n",
    "    'Ted': 'purple'\n",
    "}\n",
    "\n",
    "#print(f\"{people['Max']}\") #prints out only value (blue)\n",
    "#print(f\"\")\n",
    "people.items()\n",
    "\n",
    "\n",
    "for key,  value in people.items():\n",
    "        print(key, \"has\", value,\"eyes\")\n",
    "    \n"
   ]
  },
  {
   "cell_type": "markdown",
   "metadata": {},
   "source": [
    "##### sorted()"
   ]
  },
  {
   "cell_type": "code",
   "execution_count": 73,
   "metadata": {},
   "outputs": [
    {
     "name": "stdout",
     "output_type": "stream",
     "text": [
      "['Barney', 'Larney', 'Lilly', 'Max', 'Ted']\n",
      "['blue', 'blue', 'brown', 'brown', 'purple']\n",
      "[('Barney', 'blue'), ('Larney', 'brown'), ('Lilly', 'brown'), ('Max', 'blue'), ('Ted', 'purple')]\n"
     ]
    }
   ],
   "source": [
    "# sorts variables in order\n",
    "# sorted(dict.values()) or dict.keys() or dict.items()\n",
    "\n",
    "people = {\n",
    "    'Max': 'blue',\n",
    "    'Lilly': 'brown',\n",
    "    'Barney': 'blue',\n",
    "    'Larney': 'brown',\n",
    "    'Ted': 'purple'\n",
    "}\n",
    "\n",
    "print(sorted(people))#only affets keys\n",
    "print(sorted(people.values())) #only affects values\n",
    "print(sorted(people.items())) #both keys and values"
   ]
  },
  {
   "cell_type": "markdown",
   "metadata": {},
   "source": [
    "##### List with Dictionaries"
   ]
  },
  {
   "cell_type": "code",
   "execution_count": 98,
   "metadata": {},
   "outputs": [
    {
     "name": "stdout",
     "output_type": "stream",
     "text": [
      "{'random_guy': ['jalop', 'bacon', 'eggs'], 'another_guy': 'travis'}\n",
      "['jalop', 'bacon', 'eggs']\n",
      "eggs\n"
     ]
    }
   ],
   "source": [
    "names = [\"marcus\",\"connor\",{\"random_guy\":[\"jalop\", \"bacon\", \"eggs\"], \"another_guy\":\"travis\"},\"perry\", \"lizzette\"]\n",
    "print (names[2])#targeting the list\n",
    "print (names[2][\"random_guy\"]) #targeting specific value in list(which happens to be a list)\n",
    "print (names[2][\"random_guy\"][2])#targeting specific value in the list inside the list"
   ]
  },
  {
   "cell_type": "markdown",
   "metadata": {},
   "source": [
    "##### Dictionaries with Lists"
   ]
  },
  {
   "cell_type": "code",
   "execution_count": 133,
   "metadata": {},
   "outputs": [
    {
     "name": "stdout",
     "output_type": "stream",
     "text": [
      "#######\n",
      "Item Name:item A\n",
      "#######\n",
      "Item Name:item B\n",
      "#######\n",
      "Item Name:item C\n"
     ]
    }
   ],
   "source": [
    "# be careful when using numbers as keys in dictionaries, don't confuse them with indexes\n",
    "all_items = [\n",
    "    {\"name\":\"item A\",\n",
    "        \"price\": 2.99,\n",
    "        \"desc\":\"a jolly good item\"\n",
    "    } ,\n",
    "  \n",
    "    {\n",
    "        \"name\":\"item B\",\n",
    "        \"price\": 10.99,\n",
    "        \"desc\":\"an unjolly bad item\"\n",
    "    } ,\n",
    "    {\n",
    "         \"name\":\"item C\",\n",
    "        \"price\": 0.99,\n",
    "        \"desc\":\"garbo\"\n",
    "    }\n",
    "\n",
    "\n",
    "]\n",
    "\n",
    "for item in all_items:\n",
    "    print(\"#######\")\n",
    "    print(f\"Item Name:{item['name']}\")\n"
   ]
  },
  {
   "cell_type": "code",
   "execution_count": 138,
   "metadata": {},
   "outputs": [
    {
     "name": "stdout",
     "output_type": "stream",
     "text": [
      "8\n",
      "I am disgusted\n",
      "{'mint_chip': True, 'strawberry': True, 'vanilla': False}\n",
      "he likes mint_chip\n",
      "he likes strawberry\n",
      "he hates vanilla\n",
      "Starcraft\n",
      "I am confused\n",
      "I am a genious\n"
     ]
    }
   ],
   "source": [
    "\n",
    "\n",
    "\n",
    "caleb= {\n",
    "    \"first_name\": \"Caleb\",\n",
    "    \"last_name\" : \"Schmidt\",\n",
    "    \"ice_cream\":{\n",
    "        \"mint_chip\": True,\n",
    "        \"strawberry\":True,\n",
    "        \"vanilla\":False\n",
    "    },\n",
    "    \"games\":[\n",
    "        {\n",
    "            \"name\":\"Wii Sports\",\n",
    "            \"rating\":7\n",
    "        },\n",
    "       {\n",
    "            \"name\":\"Smash Ult\",\n",
    "            \"rating\":8\n",
    "        },\n",
    "        {\n",
    "            \"name\":\"Starcraft\",\n",
    "            \"rating\":6\n",
    "        }\n",
    "    ],\n",
    "    \"emotions\": [\"I am tired\", \"I am confused\", \"I am disgusted\", \"I am a genious\", \"I am an idoit\"]\n",
    "    \n",
    "}\n",
    "\n",
    "print(\n",
    "    caleb[\"games\"][1][\"rating\"] #8\n",
    " )\n",
    "print(\n",
    "        caleb[\"emotions\"][2] #i am disgusted\n",
    ")\n",
    "\n",
    "icecreams= caleb[\"ice_cream\"]\n",
    "print(icecreams)\n",
    "for flavor, likes in icecreams.items():\n",
    "    if likes:\n",
    "        print(\"he likes\", flavor)\n",
    "    else: \n",
    "        print(\"he hates\", flavor)\n",
    "\n",
    "#games_list = caleb[\"games\"]\n",
    "#print(games_list)\n",
    "#for games_list in  games:\n",
    "    #print(f\"{games_list['name']} has a rating of {games_list['rating']}\")\n",
    "\n",
    "print(\n",
    "    caleb[\"games\"][2][\"name\"]\n",
    ")\n",
    "\n",
    "\n",
    "feelings = caleb[\"emotions\"]\n",
    "for index, feeling in enumerate(feelings):\n",
    "    if index %2 != 0:\n",
    "        print(feeling)\n",
    "\n",
    "\n",
    "\n",
    "\n",
    "\n"
   ]
  },
  {
   "cell_type": "markdown",
   "metadata": {},
   "source": [
    "##### Dictionaries with Dictionaries"
   ]
  },
  {
   "cell_type": "markdown",
   "metadata": {},
   "source": []
  },
  {
   "cell_type": "code",
   "execution_count": null,
   "metadata": {},
   "outputs": [],
   "source": [
    "# to get values, must traverse through keys\n",
    "\n"
   ]
  },
  {
   "cell_type": "markdown",
   "metadata": {},
   "source": [
    "## Dictionaries vs. Lists (over time) Example of RUNTIME\n",
    "### When inputting values in a Dictionary vs List"
   ]
  },
  {
   "cell_type": "code",
   "execution_count": null,
   "metadata": {},
   "outputs": [],
   "source": [
    "import time\n",
    "\n",
    "\n",
    "# generate fake dictionary\n",
    "d = {}\n",
    "\n",
    "for i in range(10000000):\n",
    "    d[i] = 'value'\n",
    "    \n",
    "\n",
    "# generate fake list\n",
    "big_list = [x for x in range(10000000)]"
   ]
  },
  {
   "cell_type": "code",
   "execution_count": null,
   "metadata": {},
   "outputs": [],
   "source": [
    "# tracking time for dictionary\n",
    "start_time = time.time()\n",
    "\n",
    "print(d[9999999])\n",
    "\n",
    "end_time = time.time() - start_time\n",
    "\n",
    "print('Elapsed time for dictionary: {}'.format(end_time))\n",
    "\n",
    "\n",
    "# tracking time for list\n",
    "start_time = time.time()\n",
    "\n",
    "for i in range(len(big_list)):\n",
    "    if i == 9999999:\n",
    "        print(i)\n",
    "\n",
    "end_time = time.time() - start_time\n",
    "\n",
    "print('Elapsed time for list: {}'.format(end_time))"
   ]
  },
  {
   "cell_type": "markdown",
   "metadata": {},
   "source": [
    "## Exercise #3 - Write a Function that asks someone's name and address, and then stores that into a dictionary, and continues to do so until they choose to 'quit'. Once they quit, the program should print all names and addresses. <br>\n",
    "<p>\n",
    "<b>Proper steps:</b><br>\n",
    "step 1: write a function that takes in information and stores it in a dictionary<br>\n",
    "step 2: define an empty dictionary to work with<br>\n",
    "step 3: create our loop, which asks the user for information until they quit<br>\n",
    "step 4: ask for the information, and store it into variables<br>\n",
    "step 5: check if the user types quit<br>\n",
    "step 5a: print out all information<br>\n",
    "step 5b: break out of the loop<br>\n",
    "step 6: if they didn't quit, add the information to the dictionary<br>\n",
    "step 7: invoke the function by calling it\n",
    "</p>"
   ]
  },
  {
   "cell_type": "code",
   "execution_count": null,
   "metadata": {},
   "outputs": [],
   "source": [
    "from IPython.display import clear_output\n",
    "\n",
    "def user_info_func():\n",
    "        user_info ={}\n",
    "\n",
    "        while True:\n",
    "            name = input(\"Insert your name: \").strip()\n",
    "            if name.lower() == 'quit':\n",
    "                print(user_info)\n",
    "                break\n",
    "            address = (input(\"Insert your address: \"))\n",
    "            if address.lower() == 'quit':\n",
    "                 print(user_info)\n",
    "                 break \n",
    "            user_info[name]\n",
    "\n",
    "\n",
    "print (user_info_func())\n",
    "\n",
    "\n",
    "\n"
   ]
  },
  {
   "cell_type": "code",
   "execution_count": 10,
   "metadata": {},
   "outputs": [],
   "source": [
    "print(user_info)\n",
    "print(user_info.items())\n"
   ]
  },
  {
   "cell_type": "code",
   "execution_count": 11,
   "metadata": {},
   "outputs": [
    {
     "name": "stdout",
     "output_type": "stream",
     "text": [
      "{'kevin': 'main', 'caleb': 'main', 'lizz': 'main', 'gord': '3rd'}\n"
     ]
    }
   ],
   "source": []
  },
  {
   "cell_type": "markdown",
   "metadata": {},
   "source": [
    "## Set <br>\n",
    "<p>A Set is an unordered collection data type that is iterable (loop), mutable, and has no duplicate elements.<br>Major advantage is that it is highly optimized in checking if something is in the set, as opposed to checking if something is in a list.</p>"
   ]
  },
  {
   "cell_type": "markdown",
   "metadata": {},
   "source": [
    "##### Declaring"
   ]
  },
  {
   "cell_type": "code",
   "execution_count": null,
   "metadata": {},
   "outputs": [],
   "source": [
    "# set() or {}\n",
    "# no order {3, 2, 1} outputs as {1, 2, 3}\n"
   ]
  },
  {
   "cell_type": "markdown",
   "metadata": {},
   "source": [
    "##### .add()"
   ]
  },
  {
   "cell_type": "code",
   "execution_count": null,
   "metadata": {},
   "outputs": [],
   "source": [
    "# set.add()\n"
   ]
  },
  {
   "cell_type": "markdown",
   "metadata": {},
   "source": [
    "##### .remove()"
   ]
  },
  {
   "cell_type": "code",
   "execution_count": null,
   "metadata": {},
   "outputs": [],
   "source": [
    "# removes by value\n",
    "# set.remove()\n",
    "# nums.remove(56)\n",
    "\n"
   ]
  },
  {
   "cell_type": "markdown",
   "metadata": {},
   "source": [
    "##### .union() "
   ]
  },
  {
   "cell_type": "code",
   "execution_count": null,
   "metadata": {},
   "outputs": [],
   "source": [
    "# Returns a union of two sets, can also use '|' or set.union(set)\n",
    "# joins all numbers, gets rid of duplicates\n"
   ]
  },
  {
   "cell_type": "markdown",
   "metadata": {},
   "source": [
    "##### .intersection()"
   ]
  },
  {
   "cell_type": "code",
   "execution_count": null,
   "metadata": {},
   "outputs": [],
   "source": [
    "# Returns an intersection of two sets, can also use '&'\n",
    "# only takes similar elements from both sets\n",
    "\n"
   ]
  },
  {
   "cell_type": "markdown",
   "metadata": {},
   "source": [
    "##### .difference()"
   ]
  },
  {
   "cell_type": "code",
   "execution_count": null,
   "metadata": {},
   "outputs": [],
   "source": [
    "# Returns a set containing all the elements of invoking set that are not in the second set, can also use '-'\n",
    "# only takes values from the first set that are not in the second set\n",
    "# order matters\n",
    "\n"
   ]
  },
  {
   "cell_type": "markdown",
   "metadata": {},
   "source": [
    "##### .clear()"
   ]
  },
  {
   "cell_type": "code",
   "execution_count": null,
   "metadata": {},
   "outputs": [],
   "source": [
    "# Empties the whole set\n",
    "# set.clear()\n"
   ]
  },
  {
   "cell_type": "markdown",
   "metadata": {},
   "source": [
    "##### Frozenset <br>\n",
    "<p>Frozen sets are immutable objects that only support methods and operators that produce a result without affecting the frozen set or sets to which they are applied.</p><br><b>Unique & Immutable</b>"
   ]
  },
  {
   "cell_type": "code",
   "execution_count": null,
   "metadata": {},
   "outputs": [],
   "source": [
    "# frozenset([])\n"
   ]
  },
  {
   "cell_type": "markdown",
   "metadata": {},
   "source": [
    "## Modules"
   ]
  },
  {
   "cell_type": "markdown",
   "metadata": {},
   "source": [
    "##### Importing Entire Modules"
   ]
  },
  {
   "cell_type": "code",
   "execution_count": null,
   "metadata": {},
   "outputs": [],
   "source": [
    "# import or from 'xxx' import *\n",
    "# import math\n",
    "\n"
   ]
  },
  {
   "cell_type": "markdown",
   "metadata": {},
   "source": [
    "##### Importing Methods Only"
   ]
  },
  {
   "cell_type": "code",
   "execution_count": null,
   "metadata": {},
   "outputs": [],
   "source": [
    "# from 'xxx' import 'xxx'\n",
    "# from math import floor\n",
    "\n",
    "\n"
   ]
  },
  {
   "cell_type": "markdown",
   "metadata": {},
   "source": [
    "##### Using the 'as' Keyword"
   ]
  },
  {
   "cell_type": "code",
   "execution_count": null,
   "metadata": {},
   "outputs": [],
   "source": [
    "# from 'xxx' import 'xxx' as 'xxx' or import 'xxx' as 'xxx'\n",
    "# from math import floor as f\n"
   ]
  },
  {
   "cell_type": "markdown",
   "metadata": {},
   "source": [
    "##### Creating a Module"
   ]
  },
  {
   "cell_type": "code",
   "execution_count": 24,
   "metadata": {},
   "outputs": [
    {
     "name": "stdout",
     "output_type": "stream",
     "text": [
      "Say goodbye\n"
     ]
    }
   ],
   "source": [
    "import mymod\n",
    "\n",
    "mymod.say_hello()"
   ]
  },
  {
   "cell_type": "markdown",
   "metadata": {},
   "source": [
    "# Exercises"
   ]
  },
  {
   "cell_type": "markdown",
   "metadata": {},
   "source": [
    "### 1) Build a Shopping Cart <br>\n",
    "<p><b>You can use either lists or dictionaries. The program should have the following capabilities:</b><br><br>\n",
    "1) Takes in input <br>\n",
    "2) Stores user input into a dictionary or list <br>\n",
    "3) The User can add or delete items <br>\n",
    "4) The User can see current shopping list <br>\n",
    "5) The program Loops until user 'quits' <br>\n",
    "6) Upon quiting the program, print out all items in the user's list <br>\n",
    "</p>"
   ]
  },
  {
   "cell_type": "code",
   "execution_count": null,
   "metadata": {},
   "outputs": [],
   "source": [
    "from tkinter import N, Y\n",
    "from IPython.display import clear_output\n",
    "\n",
    "shop_list = [\"apple\",\"banana\",\"rotten apple\",\"watermelon\",\"cigarettles\"]\n",
    "shop_cart = []\n",
    "\n",
    "def get_items( ):\n",
    "    while True:\n",
    "        response = input(\"What would you like to add to your cart?\")\n",
    "        print(f\"You've selected : {response}\")\n",
    "        confirm_response = input(\"Confirm item?: (y/n)\")\n",
    "        if confirm_response != 'y':\n",
    "            print(\"Okay, no problem!.Rascal\")\n",
    "        else:\n",
    "            shop_cart.append(confirm_response)\n",
    "\n",
    "def view_items( ):\n",
    "    view_input = input (\"Would you like to view your shopping cart? = (y/n)\")\n",
    "    if view_input[0].lower() == \"y\":\n",
    "        print(f\"Your cart contains: {shop_cart}\")\n",
    "    return view_input\n",
    "\n",
    "def remove_items():\n",
    "    response= input(\"Would you like to remove any items? : (y/n)\")\n",
    "    if response[0].lower()==\"y\":\n",
    "        remove_input = print(input(f\"What would you like to remove?{shop_cart}\"))\n",
    "    return remove_input\n",
    "\n",
    "\n",
    "def main ( ):\n",
    "    while True:\n",
    "        response = input(\"Welcome to the Halfway-done Grocery! Are you ready to shop?: (y/n) \") #n keeps continuing, not breaking#y doesnt exist or work in this function?\n",
    "        if response[0].lower()==\"n\":\n",
    "            print(\"You little rascal!\")\n",
    "            break\n",
    "        else:\n",
    "            print(shop_list)\n",
    "            while True:\n",
    "                response = input(\"What would you like to add to your cart?(End if done.)\")\n",
    "                print(f\"You've selected : {response}\")\n",
    "                confirm_response = input(\"Confirm item?: (y/n)\")\n",
    "                if confirm_response == 'n':\n",
    "                    print(\"Okay, no problem! Rascal\")\n",
    "                if confirm_response == 'y':\n",
    "                    print(f\"Awesome! A(n) {response} has been added to your cart\")\n",
    "                    shop_cart.append(response)\n",
    "                    continue\n",
    "                else:\n",
    "                    pass\n",
    "                    break\n",
    "            \n",
    "            while True:\n",
    "                view_items()\n",
    "                print(input(\"Would you like to remove any items? : (y/n)\"))\n",
    "                if response[0].lower()==\"y\":\n",
    "                    remove_response = print(input(f\"What would you like to remove?{shop_cart}\"))\n",
    "                    shop_cart.remove(remove_response)\n",
    "                if  response[0].lower() !=\"y\":\n",
    "                    print(\"Okay!No problem.\")\n",
    "                    break\n",
    "        \n",
    "\n",
    "       \n",
    "        print(f\"You're all set. Enjoy your{shop_cart} . You can't sue. It's not real.\")\n",
    " \n",
    "main()"
   ]
  },
  {
   "cell_type": "markdown",
   "metadata": {},
   "source": [
    "### 2) Create a Module in VS Code and Import It into jupyter notebook <br>\n",
    "<p><b>Module should have the following capabilities:</b><br><br>\n",
    "1) Has a function to calculate the square footage of a house <br>\n",
    "    <b>Reminder of Formula: Length X Width == Area<br>\n",
    "        <hr>\n",
    "2) Has a function to calculate the circumference of a circle <br><br>\n",
    "<b>Program in Jupyter Notebook should take in user input and use imported functions to calculate a circle's circumference or a houses square footage</b>\n",
    "</p>"
   ]
  },
  {
   "cell_type": "code",
   "execution_count": null,
   "metadata": {},
   "outputs": [],
   "source": [
    "from mod_wed import square_ft\n",
    "\n",
    "print (f\"{square_ft(0,0)} sq. ft.\") #the outputs of my function reflect the inputs that were collected from being prompted \n",
    "                                                            #the print function does not work unless I have numbers in the parentheses of square_ft\n",
    "                                                            #these numbers are nugatory and are only placeholders\n",
    "\n",
    "\n"
   ]
  },
  {
   "cell_type": "code",
   "execution_count": 3,
   "metadata": {},
   "outputs": [
    {
     "name": "stdout",
     "output_type": "stream",
     "text": [
      "37.69911184307752 units\n"
     ]
    }
   ],
   "source": [
    "from mod_wed import circum\n",
    "\n",
    "print(f\"{circum(0)} units\")#the outputs of my function reflect the inputs that were collected from user \n",
    "                                                            #the print function does not work unless I have a number in the parentheses of circum\n",
    "                                                            #this number is nugatory and is only a placeholder"
   ]
  }
 ],
 "metadata": {
  "kernelspec": {
   "display_name": "Python 3.10.6 64-bit",
   "language": "python",
   "name": "python3"
  },
  "language_info": {
   "codemirror_mode": {
    "name": "ipython",
    "version": 3
   },
   "file_extension": ".py",
   "mimetype": "text/x-python",
   "name": "python",
   "nbconvert_exporter": "python",
   "pygments_lexer": "ipython3",
   "version": "3.10.6"
  },
  "vscode": {
   "interpreter": {
    "hash": "ef53756625b024b1b1790da67acc1f2baf042488667a7862e4ec0faaa95a916f"
   }
  }
 },
 "nbformat": 4,
 "nbformat_minor": 2
}
